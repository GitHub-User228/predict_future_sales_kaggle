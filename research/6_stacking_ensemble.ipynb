{
 "cells": [
  {
   "cell_type": "code",
   "execution_count": 1,
   "metadata": {},
   "outputs": [],
   "source": [
    "import warnings\n",
    "warnings.filterwarnings(\"ignore\")\n",
    "\n",
    "import sys\n",
    "sys.path.append('../src')\n",
    "\n",
    "import pandas as pd\n",
    "pd.set_option('display.max_rows', 100)\n",
    "\n",
    "import cudf\n",
    "from pathlib import Path\n",
    "\n",
    "from sales_project.evaluations import evaluate\n",
    "from sales_project.utils import save_predictions\n",
    "from sales_project.stacking_ensemble import StackingEnsemble\n",
    "\n"
   ]
  },
  {
   "cell_type": "code",
   "execution_count": 2,
   "metadata": {},
   "outputs": [],
   "source": [
    "target = 'item_cnt_month'\n",
    "timestamp_col = 'date_block_num'\n",
    "\n",
    "features = list(pd.read_parquet(\"../data/artifacts/df_submission.parquet\").columns)\n",
    "features.remove(target)\n",
    "features.remove(timestamp_col)\n",
    "features.remove('shop_id')\n",
    "features.remove('item_id')\n",
    "features.remove('shop_open_days')"
   ]
  },
  {
   "cell_type": "markdown",
   "metadata": {},
   "source": [
    "# Stacking model 1 -> 0.96608"
   ]
  },
  {
   "cell_type": "code",
   "execution_count": 3,
   "metadata": {},
   "outputs": [
    {
     "name": "stdout",
     "output_type": "stream",
     "text": [
      "First level models have already been fitted. No need to read first level data.\n",
      "Reading second level data...\n",
      "Predicting using first level models...\n"
     ]
    },
    {
     "data": {
      "application/vnd.jupyter.widget-view+json": {
       "model_id": "5de655cda1f2483fafbca8db65062593",
       "version_major": 2,
       "version_minor": 0
      },
      "text/plain": [
       "  0%|          | 0/2 [00:00<?, ?it/s]"
      ]
     },
     "metadata": {},
     "output_type": "display_data"
    },
    {
     "name": "stdout",
     "output_type": "stream",
     "text": [
      "Fitting meta model XGBRegressor...\n",
      "pkl file saved at: ../models/meta_XGBRegressor_2024-08-15_23:22:10.pkl\n",
      "yaml file saved at: ../params/stacking_model.yaml\n"
     ]
    },
    {
     "data": {
      "text/plain": [
       "<sales_project.stacking_ensemble.StackingEnsemble at 0x7f021a2e47d0>"
      ]
     },
     "execution_count": 3,
     "metadata": {},
     "output_type": "execute_result"
    }
   ],
   "source": [
    "ensemble = StackingEnsemble(Path('../params/stacking_model.yaml'))\n",
    "\n",
    "ensemble.fit(\n",
    "    data_file_path=Path(\"../data/artifacts/df3.parquet\"),\n",
    "    feats=features,\n",
    "    target=target,\n",
    "    timestamp_col=timestamp_col,\n",
    "    first_level_timestamps=list(range(1, 17)),\n",
    "    second_level_timestamps=list(range(17, 33)),\n",
    "    is_cudf=False,\n",
    ")"
   ]
  },
  {
   "cell_type": "code",
   "execution_count": 4,
   "metadata": {},
   "outputs": [
    {
     "data": {
      "application/vnd.jupyter.widget-view+json": {
       "model_id": "f34105736b9a41398abe9a284d03e133",
       "version_major": 2,
       "version_minor": 0
      },
      "text/plain": [
       "  0%|          | 0/2 [00:00<?, ?it/s]"
      ]
     },
     "metadata": {},
     "output_type": "display_data"
    },
    {
     "name": "stdout",
     "output_type": "stream",
     "text": [
      "LGBMRegressor_pred {'MAE': 0.29317721518047557, 'MSE': 0.6210662809199939, 'RMSE': 0.7880775855967443, 'R2': 0.37265683834537966, 'MAPE': 608010645592480.0, 'SMAPE': nan}\n",
      "XGBRegressor_pred {'MAE': 0.3232717216014862, 'MSE': 0.6980032920837402, 'RMSE': 0.8354659131788323, 'R2': 0.2949422597885132, 'MAPE': 733291778932736.0, 'SMAPE': nan}\n",
      "XGBRegressor_metapred {'MAE': 0.30103766918182373, 'MSE': 0.591895580291748, 'RMSE': 0.7693475029476264, 'R2': 0.4021223187446594, 'MAPE': 666325923921920.0, 'SMAPE': nan}\n"
     ]
    }
   ],
   "source": [
    "df_test = pd.read_parquet(\"../data/artifacts/df3.parquet\").query(f\"{timestamp_col} == 33\")\n",
    "df_test[target] = df_test[target].clip(0, 20)\n",
    "df_test = ensemble.predict(df=df_test, feats=features)\n",
    "\n",
    "for col in ['LGBMRegressor_pred', 'XGBRegressor_pred', 'XGBRegressor_metapred']:\n",
    "    print(col, evaluate(df_test, target, col))"
   ]
  },
  {
   "cell_type": "code",
   "execution_count": 15,
   "metadata": {},
   "outputs": [
    {
     "data": {
      "application/vnd.jupyter.widget-view+json": {
       "model_id": "88bad3b8e9674ece9b73212012bf7fcf",
       "version_major": 2,
       "version_minor": 0
      },
      "text/plain": [
       "  0%|          | 0/2 [00:00<?, ?it/s]"
      ]
     },
     "metadata": {},
     "output_type": "display_data"
    },
    {
     "name": "stdout",
     "output_type": "stream",
     "text": [
      "csv file saved at: ../data/predictions/stacking_test2.csv\n"
     ]
    }
   ],
   "source": [
    "df_submission = pd.read_parquet(\"../data/artifacts/df_submission.parquet\")\n",
    "df_submission = ensemble.predict(df=df_submission, feats=features)\n",
    "df_submission[target] = df_submission['XGBRegressor_metapred']\n",
    "save_predictions(df_submission[['shop_id', 'item_id', target]], 'stacking_test2.csv')"
   ]
  },
  {
   "cell_type": "markdown",
   "metadata": {},
   "source": [
    "# Stacking model 2 -> 0.96435"
   ]
  },
  {
   "cell_type": "code",
   "execution_count": 3,
   "metadata": {},
   "outputs": [
    {
     "name": "stdout",
     "output_type": "stream",
     "text": [
      "First level models have already been fitted. No need to read first level data.\n",
      "Reading second level data...\n",
      "Predicting using first level models...\n"
     ]
    },
    {
     "data": {
      "application/vnd.jupyter.widget-view+json": {
       "model_id": "94724b831f034b81882e0a29931342de",
       "version_major": 2,
       "version_minor": 0
      },
      "text/plain": [
       "  0%|          | 0/2 [00:00<?, ?it/s]"
      ]
     },
     "metadata": {},
     "output_type": "display_data"
    },
    {
     "name": "stdout",
     "output_type": "stream",
     "text": [
      "Fitting meta model LGBMRegressor...\n",
      "pkl file saved at: ../models/meta_LGBMRegressor_2024-08-15_23:24:38.pkl\n",
      "yaml file saved at: ../params/stacking_model2.yaml\n"
     ]
    },
    {
     "data": {
      "text/plain": [
       "<sales_project.stacking_ensemble.StackingEnsemble at 0x7fb2a3168410>"
      ]
     },
     "execution_count": 3,
     "metadata": {},
     "output_type": "execute_result"
    }
   ],
   "source": [
    "ensemble = StackingEnsemble(Path('../params/stacking_model2.yaml'))\n",
    "\n",
    "ensemble.fit(\n",
    "    data_file_path=Path(\"../data/artifacts/df3.parquet\"),\n",
    "    feats=features,\n",
    "    target=target,\n",
    "    timestamp_col=timestamp_col,\n",
    "    first_level_timestamps=list(range(1, 17)),\n",
    "    second_level_timestamps=list(range(17, 33)),\n",
    "    is_cudf=False,\n",
    ")"
   ]
  },
  {
   "cell_type": "code",
   "execution_count": 6,
   "metadata": {},
   "outputs": [
    {
     "name": "stdout",
     "output_type": "stream",
     "text": [
      "LGBMRegressor_pred {'MAE': 0.29317721518047557, 'MSE': 0.6210662809199939, 'RMSE': 0.7880775855967443, 'R2': 0.37265683834537966, 'MAPE': 608010645592480.0, 'SMAPE': nan}\n",
      "XGBRegressor_pred {'MAE': 0.3232717216014862, 'MSE': 0.6980032920837402, 'RMSE': 0.8354659131788323, 'R2': 0.2949422597885132, 'MAPE': 733291778932736.0, 'SMAPE': nan}\n",
      "LGBMRegressor_metapred {'MAE': 0.30686542306348585, 'MSE': 0.6063440972183074, 'RMSE': 0.7786809983673079, 'R2': 0.3875278135594824, 'MAPE': 698288598966636.6, 'SMAPE': nan}\n"
     ]
    }
   ],
   "source": [
    "df_test = pd.read_parquet(\"../data/artifacts/df3.parquet\").query(f\"{timestamp_col} == 33\")\n",
    "df_test[target] = df_test[target].clip(0, 20)\n",
    "df_test = ensemble.predict(df=df_test, feats=features)\n",
    "\n",
    "for col in ['LGBMRegressor_pred', 'XGBRegressor_pred', 'LGBMRegressor_metapred']:\n",
    "    print(col, evaluate(df_test, target, col))"
   ]
  },
  {
   "cell_type": "code",
   "execution_count": 7,
   "metadata": {},
   "outputs": [
    {
     "data": {
      "application/vnd.jupyter.widget-view+json": {
       "model_id": "7b98ef2286934d468ba152bced5eab18",
       "version_major": 2,
       "version_minor": 0
      },
      "text/plain": [
       "  0%|          | 0/2 [00:00<?, ?it/s]"
      ]
     },
     "metadata": {},
     "output_type": "display_data"
    },
    {
     "name": "stdout",
     "output_type": "stream",
     "text": [
      "csv file saved at: ../data/predictions/stacking_test3.csv\n"
     ]
    }
   ],
   "source": [
    "df_submission = pd.read_parquet(\"../data/artifacts/df_submission.parquet\")\n",
    "df_submission = ensemble.predict(df=df_submission, feats=features)\n",
    "df_submission[target] = df_submission['LGBMRegressor_metapred']\n",
    "save_predictions(df_submission[['shop_id', 'item_id', target]], 'stacking_test3.csv')"
   ]
  },
  {
   "cell_type": "code",
   "execution_count": null,
   "metadata": {},
   "outputs": [],
   "source": []
  }
 ],
 "metadata": {
  "kernelspec": {
   "display_name": "rapids-24.06",
   "language": "python",
   "name": "python3"
  },
  "language_info": {
   "codemirror_mode": {
    "name": "ipython",
    "version": 3
   },
   "file_extension": ".py",
   "mimetype": "text/x-python",
   "name": "python",
   "nbconvert_exporter": "python",
   "pygments_lexer": "ipython3",
   "version": "3.11.9"
  }
 },
 "nbformat": 4,
 "nbformat_minor": 2
}
